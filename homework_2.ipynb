{
 "cells": [
  {
   "cell_type": "markdown",
   "id": "6d43704b",
   "metadata": {},
   "source": [
    "# import libraries and data"
   ]
  },
  {
   "cell_type": "code",
   "execution_count": 1,
   "id": "3c400d73",
   "metadata": {},
   "outputs": [],
   "source": [
    "import pandas as pd\n",
    "import numpy as np\n",
    "import matplotlib.pyplot as plt\n",
    "import seaborn as sns\n",
    "import plotly.express as px\n",
    "\n",
    "df=pd.read_csv('housing.csv')\n"
   ]
  },
  {
   "cell_type": "markdown",
   "id": "34dc02a7",
   "metadata": {},
   "source": [
    "# EDA"
   ]
  },
  {
   "cell_type": "markdown",
   "id": "5a3e2438",
   "metadata": {},
   "source": [
    "it shows long tail distribution we need to log our target variable"
   ]
  },
  {
   "cell_type": "code",
   "execution_count": 2,
   "id": "6eb96c35",
   "metadata": {},
   "outputs": [
    {
     "name": "stderr",
     "output_type": "stream",
     "text": [
      "No artists with labels found to put in legend.  Note that artists whose label start with an underscore are ignored when legend() is called with no argument.\n"
     ]
    },
    {
     "data": {
      "text/plain": [
       "<matplotlib.legend.Legend at 0x7f713d77e2f0>"
      ]
     },
     "execution_count": 2,
     "metadata": {},
     "output_type": "execute_result"
    },
    {
     "data": {
      "image/png": "[encoded data removed]",
      "text/plain": [
       "<Figure size 1300x700 with 1 Axes>"
      ]
     },
     "metadata": {},
     "output_type": "display_data"
    }
   ],
   "source": [
    "plt.figure(figsize=(13,7))\n",
    "sns.histplot(df['median_house_value'])\n",
    "plt.legend()"
   ]
  },
  {
   "cell_type": "markdown",
   "id": "84a50711",
   "metadata": {},
   "source": [
    "keep only the records where ocean_proximity is either '<1H OCEAN' or 'INLAND'"
   ]
  },
  {
   "cell_type": "code",
   "execution_count": 3,
   "id": "35007d51",
   "metadata": {},
   "outputs": [
    {
     "data": {
      "text/plain": [
       "(15687, 9)"
      ]
     },
     "execution_count": 3,
     "metadata": {},
     "output_type": "execute_result"
    }
   ],
   "source": [
    "df=df.query(\"ocean_proximity=='<1H OCEAN' or ocean_proximity=='INLAND'\")\n",
    "features=['latitude',\n",
    "'longitude',\n",
    "'housing_median_age',\n",
    "'total_rooms',\n",
    "'total_bedrooms',\n",
    "'population',\n",
    "'households',\n",
    "'median_income',\n",
    "'median_house_value']\n",
    "\n",
    "\n",
    "df=df[features]\n",
    "df.shape"
   ]
  },
  {
   "cell_type": "markdown",
   "id": "0ae649e8",
   "metadata": {},
   "source": [
    "# Question one\n",
    "There's one feature with missing values. What is it? <br>\n",
    "\n",
    "total_rooms <br>\n",
    "total_bedrooms <br>\n",
    "population <br>\n",
    "households"
   ]
  },
  {
   "cell_type": "code",
   "execution_count": 4,
   "id": "d7b7059b",
   "metadata": {},
   "outputs": [
    {
     "data": {
      "text/plain": [
       "latitude                0\n",
       "longitude               0\n",
       "housing_median_age      0\n",
       "total_rooms             0\n",
       "total_bedrooms        157\n",
       "population              0\n",
       "households              0\n",
       "median_income           0\n",
       "median_house_value      0\n",
       "dtype: int64"
      ]
     },
     "execution_count": 4,
     "metadata": {},
     "output_type": "execute_result"
    }
   ],
   "source": [
    "df.isnull().sum()"
   ]
  },
  {
   "cell_type": "markdown",
   "id": "c7534802",
   "metadata": {},
   "source": [
    "# Question 2\n",
    "What's the median (50% percentile) for variable 'population'?\n",
    "\n",
    "995 <br>\n",
    "1095 <br>\n",
    "1195<br>\n",
    "1295<br>"
   ]
  },
  {
   "cell_type": "code",
   "execution_count": 5,
   "id": "ae038eda",
   "metadata": {},
   "outputs": [
    {
     "data": {
      "text/plain": [
       "1195.0"
      ]
     },
     "execution_count": 5,
     "metadata": {},
     "output_type": "execute_result"
    }
   ],
   "source": [
    "df['population'].median()"
   ]
  },
  {
   "cell_type": "markdown",
   "id": "af51d299",
   "metadata": {},
   "source": [
    "# Prepare and split the dataset\n",
    "Shuffle the dataset (the filtered one you created above), use seed 42. <br>\n",
    "Split your data in train/val/test sets, with 60%/20%/20% distribution.<br>\n",
    "Apply the log transformation to the median_house_value variable using the np.log1p() function."
   ]
  },
  {
   "cell_type": "code",
   "execution_count": 6,
   "id": "b47c1011",
   "metadata": {},
   "outputs": [
    {
     "data": {
      "text/html": [
       "<div>\n",
       "<style scoped>\n",
       "    .dataframe tbody tr th:only-of-type {\n",
       "        vertical-align: middle;\n",
       "    }\n",
       "\n",
       "    .dataframe tbody tr th {\n",
       "        vertical-align: top;\n",
       "    }\n",
       "\n",
       "    .dataframe thead th {\n",
       "        text-align: right;\n",
       "    }\n",
       "</style>\n",
       "<table border=\"1\" class=\"dataframe\">\n",
       "  <thead>\n",
       "    <tr style=\"text-align: right;\">\n",
       "      <th></th>\n",
       "      <th>latitude</th>\n",
       "      <th>longitude</th>\n",
       "      <th>housing_median_age</th>\n",
       "      <th>total_rooms</th>\n",
       "      <th>total_bedrooms</th>\n",
       "      <th>population</th>\n",
       "      <th>households</th>\n",
       "      <th>median_income</th>\n",
       "      <th>median_house_value</th>\n",
       "    </tr>\n",
       "  </thead>\n",
       "  <tbody>\n",
       "    <tr>\n",
       "      <th>0</th>\n",
       "      <td>36.23</td>\n",
       "      <td>-119.14</td>\n",
       "      <td>22.0</td>\n",
       "      <td>2935.0</td>\n",
       "      <td>523.0</td>\n",
       "      <td>1927.0</td>\n",
       "      <td>530.0</td>\n",
       "      <td>2.5875</td>\n",
       "      <td>11.161963</td>\n",
       "    </tr>\n",
       "    <tr>\n",
       "      <th>1</th>\n",
       "      <td>34.12</td>\n",
       "      <td>-117.79</td>\n",
       "      <td>16.0</td>\n",
       "      <td>2426.0</td>\n",
       "      <td>426.0</td>\n",
       "      <td>1319.0</td>\n",
       "      <td>446.0</td>\n",
       "      <td>4.8125</td>\n",
       "      <td>12.321635</td>\n",
       "    </tr>\n",
       "    <tr>\n",
       "      <th>2</th>\n",
       "      <td>33.68</td>\n",
       "      <td>-117.97</td>\n",
       "      <td>26.0</td>\n",
       "      <td>3653.0</td>\n",
       "      <td>568.0</td>\n",
       "      <td>1930.0</td>\n",
       "      <td>585.0</td>\n",
       "      <td>5.7301</td>\n",
       "      <td>12.471896</td>\n",
       "    </tr>\n",
       "    <tr>\n",
       "      <th>3</th>\n",
       "      <td>34.10</td>\n",
       "      <td>-118.03</td>\n",
       "      <td>32.0</td>\n",
       "      <td>2668.0</td>\n",
       "      <td>609.0</td>\n",
       "      <td>1512.0</td>\n",
       "      <td>541.0</td>\n",
       "      <td>2.9422</td>\n",
       "      <td>12.359227</td>\n",
       "    </tr>\n",
       "    <tr>\n",
       "      <th>4</th>\n",
       "      <td>37.34</td>\n",
       "      <td>-121.87</td>\n",
       "      <td>39.0</td>\n",
       "      <td>2479.0</td>\n",
       "      <td>541.0</td>\n",
       "      <td>1990.0</td>\n",
       "      <td>506.0</td>\n",
       "      <td>2.4306</td>\n",
       "      <td>12.574531</td>\n",
       "    </tr>\n",
       "    <tr>\n",
       "      <th>...</th>\n",
       "      <td>...</td>\n",
       "      <td>...</td>\n",
       "      <td>...</td>\n",
       "      <td>...</td>\n",
       "      <td>...</td>\n",
       "      <td>...</td>\n",
       "      <td>...</td>\n",
       "      <td>...</td>\n",
       "      <td>...</td>\n",
       "    </tr>\n",
       "    <tr>\n",
       "      <th>9407</th>\n",
       "      <td>33.92</td>\n",
       "      <td>-118.02</td>\n",
       "      <td>35.0</td>\n",
       "      <td>2075.0</td>\n",
       "      <td>424.0</td>\n",
       "      <td>1312.0</td>\n",
       "      <td>396.0</td>\n",
       "      <td>3.7969</td>\n",
       "      <td>12.012494</td>\n",
       "    </tr>\n",
       "    <tr>\n",
       "      <th>9408</th>\n",
       "      <td>34.44</td>\n",
       "      <td>-119.15</td>\n",
       "      <td>33.0</td>\n",
       "      <td>2005.0</td>\n",
       "      <td>392.0</td>\n",
       "      <td>1043.0</td>\n",
       "      <td>351.0</td>\n",
       "      <td>5.3080</td>\n",
       "      <td>12.604516</td>\n",
       "    </tr>\n",
       "    <tr>\n",
       "      <th>9409</th>\n",
       "      <td>36.13</td>\n",
       "      <td>-119.13</td>\n",
       "      <td>28.0</td>\n",
       "      <td>1673.0</td>\n",
       "      <td>385.0</td>\n",
       "      <td>1434.0</td>\n",
       "      <td>371.0</td>\n",
       "      <td>2.0586</td>\n",
       "      <td>10.618910</td>\n",
       "    </tr>\n",
       "    <tr>\n",
       "      <th>9410</th>\n",
       "      <td>34.13</td>\n",
       "      <td>-118.08</td>\n",
       "      <td>46.0</td>\n",
       "      <td>1238.0</td>\n",
       "      <td>147.0</td>\n",
       "      <td>377.0</td>\n",
       "      <td>145.0</td>\n",
       "      <td>8.4546</td>\n",
       "      <td>13.122367</td>\n",
       "    </tr>\n",
       "    <tr>\n",
       "      <th>9411</th>\n",
       "      <td>34.29</td>\n",
       "      <td>-118.46</td>\n",
       "      <td>24.0</td>\n",
       "      <td>3668.0</td>\n",
       "      <td>890.0</td>\n",
       "      <td>3151.0</td>\n",
       "      <td>810.0</td>\n",
       "      <td>3.0526</td>\n",
       "      <td>12.118885</td>\n",
       "    </tr>\n",
       "  </tbody>\n",
       "</table>\n",
       "<p>9412 rows × 9 columns</p>\n",
       "</div>"
      ],
      "text/plain": [
       "      latitude  longitude  housing_median_age  total_rooms  total_bedrooms  \\\n",
       "0        36.23    -119.14                22.0       2935.0           523.0   \n",
       "1        34.12    -117.79                16.0       2426.0           426.0   \n",
       "2        33.68    -117.97                26.0       3653.0           568.0   \n",
       "3        34.10    -118.03                32.0       2668.0           609.0   \n",
       "4        37.34    -121.87                39.0       2479.0           541.0   \n",
       "...        ...        ...                 ...          ...             ...   \n",
       "9407     33.92    -118.02                35.0       2075.0           424.0   \n",
       "9408     34.44    -119.15                33.0       2005.0           392.0   \n",
       "9409     36.13    -119.13                28.0       1673.0           385.0   \n",
       "9410     34.13    -118.08                46.0       1238.0           147.0   \n",
       "9411     34.29    -118.46                24.0       3668.0           890.0   \n",
       "\n",
       "      population  households  median_income  median_house_value  \n",
       "0         1927.0       530.0         2.5875           11.161963  \n",
       "1         1319.0       446.0         4.8125           12.321635  \n",
       "2         1930.0       585.0         5.7301           12.471896  \n",
       "3         1512.0       541.0         2.9422           12.359227  \n",
       "4         1990.0       506.0         2.4306           12.574531  \n",
       "...          ...         ...            ...                 ...  \n",
       "9407      1312.0       396.0         3.7969           12.012494  \n",
       "9408      1043.0       351.0         5.3080           12.604516  \n",
       "9409      1434.0       371.0         2.0586           10.618910  \n",
       "9410       377.0       145.0         8.4546           13.122367  \n",
       "9411      3151.0       810.0         3.0526           12.118885  \n",
       "\n",
       "[9412 rows x 9 columns]"
      ]
     },
     "execution_count": 6,
     "metadata": {},
     "output_type": "execute_result"
    }
   ],
   "source": [
    "n=len(df)\n",
    "idx=np.arange(n)\n",
    "np.random.seed(42)\n",
    "np.random.shuffle(idx)\n",
    "\n",
    "n_train=int(.6*n)\n",
    "n_val=int(.2*n)\n",
    "n_test=int(.2*n)\n",
    "n,n_test+n_train+n_val\n",
    "\n",
    "df['median_house_value']=np.log1p(df['median_house_value'])\n",
    "\n",
    "train=df.iloc[idx[:n_train]].reset_index()\n",
    "val=df.iloc[idx[n_train:n_train+n_val]].reset_index()\n",
    "test=df.iloc[idx[n_train+n_val:]].reset_index()\n",
    "\n",
    "\n",
    "del train['index']\n",
    "del test['index']\n",
    "del val['index']\n",
    "train"
   ]
  },
  {
   "cell_type": "markdown",
   "id": "7160c12c",
   "metadata": {},
   "source": [
    "# Question 3\n",
    "We need to deal with missing values for the column from Q1.<br>\n",
    "We have two options: fill it with 0 or with the mean of this variable.<br>\n",
    "Try both options. For each, train a linear regression model without regularization using the code from the lessons.<br>\n",
    "For computing the mean, use the training only!<br>\n",
    "Use the validation dataset to evaluate the models and compare the RMSE of each option.<br>\n",
    "Round the RMSE scores to 2 decimal digits using round(score, 2)<br>\n",
    "Which option gives better RMSE?<br>\n",
    "Options:<br>\n",
    "\n",
    "With 0<br>\n",
    "With mean<br>\n",
    "Both are equally good"
   ]
  },
  {
   "cell_type": "markdown",
   "id": "a3186915",
   "metadata": {},
   "source": [
    "### OPTION ONE FILL WITH O"
   ]
  },
  {
   "cell_type": "code",
   "execution_count": 8,
   "id": "3cd4cdea",
   "metadata": {},
   "outputs": [
    {
     "data": {
      "text/plain": [
       "0.3409235996349079"
      ]
     },
     "execution_count": 8,
     "metadata": {},
     "output_type": "execute_result"
    }
   ],
   "source": [
    "def linear_regression(train,val):\n",
    "    \n",
    "    # ols function and train on training set\n",
    "    train['total_bedrooms']=train['total_bedrooms'].fillna(0)\n",
    "    y_train=train.iloc[:,-1].values\n",
    "    x_train=train.iloc[:,:-1].values\n",
    "\n",
    "    ones=np.ones(x_train.shape[0])\n",
    "    x_train=np.column_stack([ones,x_train])\n",
    "\n",
    "    xtx_train=x_train.T.dot(x_train)\n",
    "    xtx_inv_train=np.linalg.inv(xtx_train)\n",
    "    beta=xtx_inv_train.dot(x_train.T).dot(y_train)\n",
    "    \n",
    "    # prediction on validation set\n",
    "    val['total_bedrooms']=val['total_bedrooms'].fillna(0)\n",
    "    y_val=val.iloc[:,-1].values\n",
    "    x_val=val.iloc[:,:-1].values\n",
    "    \n",
    "    ones=np.ones(x_val.shape[0])\n",
    "    x_val=np.column_stack([ones,x_val])\n",
    "    \n",
    "    y_pred=np.dot(x_val,beta)\n",
    "    \n",
    "    # rmse\n",
    "    error=y_val-y_pred\n",
    "    rmse=np.sqrt((error**2).mean())\n",
    "    return rmse\n",
    "\n",
    "linear_regression(train,val)"
   ]
  },
  {
   "cell_type": "markdown",
   "id": "2f19b3fd",
   "metadata": {},
   "source": [
    "# option two fill with the mean"
   ]
  },
  {
   "cell_type": "code",
   "execution_count": 10,
   "id": "77a75277",
   "metadata": {},
   "outputs": [
    {
     "data": {
      "text/plain": [
       "True"
      ]
     },
     "execution_count": 10,
     "metadata": {},
     "output_type": "execute_result"
    }
   ],
   "source": [
    "def linear_regression_mean(train,val):\n",
    "    \n",
    "    # ols function and train on training set\n",
    "    train['total_bedrooms']=train['total_bedrooms'].fillna(train.total_bedrooms.mean())\n",
    "    y_train=train.iloc[:,-1].values\n",
    "    x_train=train.iloc[:,:-1].values\n",
    "\n",
    "    ones=np.ones(x_train.shape[0])\n",
    "    x_train=np.column_stack([ones,x_train])\n",
    "\n",
    "    xtx_train=x_train.T.dot(x_train)\n",
    "    xtx_inv_train=np.linalg.inv(xtx_train)\n",
    "    beta=xtx_inv_train.dot(x_train.T).dot(y_train)\n",
    "    \n",
    "    # prediction on validation set\n",
    "    val['total_bedrooms']=val['total_bedrooms'].fillna(0)\n",
    "    y_val=val.iloc[:,-1].values\n",
    "    x_val=val.iloc[:,:-1].values\n",
    "    \n",
    "    ones=np.ones(x_val.shape[0])\n",
    "    x_val=np.column_stack([ones,x_val])\n",
    "    \n",
    "    y_pred=np.dot(x_val,beta)\n",
    "    \n",
    "    # rmse\n",
    "    mse=((y_val-y_pred)**2).mean()\n",
    "    rmse=np.sqrt(mse)\n",
    "    return rmse\n",
    "\n",
    "linear_regression_mean(train,val)==linear_regression(train,val)"
   ]
  },
  {
   "cell_type": "markdown",
   "id": "fb1fec02",
   "metadata": {},
   "source": [
    "# Question 4\n",
    "Now let's train a regularized linear regression. <br>\n",
    "For this question, fill the NAs with 0.<br>\n",
    "Try different values of r from this list: [0, 0.000001, 0.0001, 0.001, 0.01, 0.1, 1, 5, 10].<br>\n",
    "Use RMSE to evaluate the model on the validation dataset.<br>\n",
    "Round the RMSE scores to 2 decimal digits.<br>\n",
    "Which r gives the best RMSE?<br>\n",
    "If there are multiple options, select the smallest r.<br>\n",
    "\n",
    "Options:<br>\n",
    "\n",
    "0<br>\n",
    "0.000001<br>\n",
    "0.001\n",
    "0.0001"
   ]
  },
  {
   "cell_type": "code",
   "execution_count": 11,
   "id": "efc13240",
   "metadata": {},
   "outputs": [],
   "source": [
    "def linear_regression_reg(train,val,r):\n",
    "    \n",
    "    # ols function and train on training set\n",
    "    train['total_bedrooms']=train['total_bedrooms'].fillna(0)\n",
    "    y_train=train.iloc[:,-1].values\n",
    "    x_train=train.iloc[:,:-1].values\n",
    "\n",
    "    ones=np.ones(x_train.shape[0])\n",
    "    x_train=np.column_stack([ones,x_train])\n",
    "\n",
    "    xtx_train=x_train.T.dot(x_train)\n",
    "    xtx_train=xtx_train+r*np.eye(xtx_train.shape[0])\n",
    "    xtx_inv_train=np.linalg.inv(xtx_train)\n",
    "    beta=xtx_inv_train.dot(x_train.T).dot(y_train)\n",
    "    \n",
    "    # prediction on validation set\n",
    "    val['total_bedrooms']=val['total_bedrooms'].fillna(0)\n",
    "    y_val=val.iloc[:,-1].values\n",
    "    x_val=val.iloc[:,:-1].values\n",
    "    \n",
    "    ones=np.ones(x_val.shape[0])\n",
    "    x_val=np.column_stack([ones,x_val])\n",
    "    \n",
    "    y_pred=np.dot(x_val,beta)\n",
    "    \n",
    "    # rmse\n",
    "    error=y_val-y_pred\n",
    "    rmse=np.sqrt((error**2).mean())\n",
    "    return rmse,r\n"
   ]
  },
  {
   "cell_type": "code",
   "execution_count": 12,
   "id": "3debd185",
   "metadata": {
    "scrolled": true
   },
   "outputs": [
    {
     "name": "stdout",
     "output_type": "stream",
     "text": [
      "(0.3409235996349079, 0)\n",
      "(0.3409236024241936, 1e-06)\n",
      "(0.34092387856510203, 0.0001)\n",
      "(0.3409264112964711, 0.001)\n",
      "(0.34095384832072456, 0.01)\n",
      "(0.34136358989088444, 0.1)\n",
      "(0.3449756916797438, 1)\n",
      "(0.3478195844881851, 5)\n",
      "(0.3483946973484849, 10)\n"
     ]
    }
   ],
   "source": [
    "\n",
    "for r in [0, 0.000001, 0.0001, 0.001, 0.01, 0.1, 1, 5, 10]:\n",
    "    print(linear_regression_reg(train,val,r))\n"
   ]
  },
  {
   "cell_type": "markdown",
   "id": "541e904b",
   "metadata": {},
   "source": [
    "# Question 6\n",
    "Split the dataset like previously, use seed 9.<br>\n",
    "Combine train and validation datasets.<br>\n",
    "Fill the missing values with 0 and train a model with r=0.001.<br>\n",
    "What's the RMSE on the test dataset?"
   ]
  },
  {
   "cell_type": "code",
   "execution_count": 12,
   "id": "e0942942",
   "metadata": {},
   "outputs": [],
   "source": [
    "n=len(df)\n",
    "idx=np.arange(n)\n",
    "np.random.seed(9)\n",
    "np.random.shuffle(idx)\n",
    "\n",
    "n_train=int(.8*n)\n",
    "n_test=int(.2*n)\n",
    "\n",
    "\n",
    "df['median_house_value']=np.log1p(df['median_house_value'])\n",
    "\n",
    "train=df.iloc[idx[:n_train]].reset_index()\n",
    "\n",
    "test=df.iloc[idx[n_train:]].reset_index()\n",
    "\n",
    "\n",
    "del train['index']\n",
    "del test['index']\n",
    "\n"
   ]
  },
  {
   "cell_type": "code",
   "execution_count": 63,
   "id": "f49da2dd",
   "metadata": {},
   "outputs": [
    {
     "data": {
      "text/plain": [
       "0.3304954548672377"
      ]
     },
     "execution_count": 63,
     "metadata": {},
     "output_type": "execute_result"
    }
   ],
   "source": [
    "def linear_regression_reg(train,val,r):\n",
    "    \n",
    "    # ols function and train on training set\n",
    "    train['total_bedrooms']=train['total_bedrooms'].fillna(0)\n",
    "    y_train=train.iloc[:,-1].values\n",
    "    x_train=train.iloc[:,:-1].values\n",
    "\n",
    "    ones=np.ones(x_train.shape[0])\n",
    "    x_train=np.column_stack([ones,x_train])\n",
    "\n",
    "    xtx_train=x_train.T.dot(x_train)\n",
    "    xtx_train=xtx_train+r*np.eye(xtx_train.shape[0])\n",
    "    xtx_inv_train=np.linalg.inv(xtx_train)\n",
    "    beta=xtx_inv_train.dot(x_train.T).dot(y_train)\n",
    "    \n",
    "    # prediction on validation set\n",
    "    val['total_bedrooms']=val['total_bedrooms'].fillna(0)\n",
    "    y_val=val.iloc[:,-1].values\n",
    "    x_val=val.iloc[:,:-1].values\n",
    "    \n",
    "    ones=np.ones(x_val.shape[0])\n",
    "    x_val=np.column_stack([ones,x_val])\n",
    "    \n",
    "    y_pred=np.dot(x_val,beta)\n",
    "    \n",
    "    # rmse\n",
    "    error=y_val-y_pred\n",
    "    rmse=np.sqrt((error**2).mean())\n",
    "    return rmse\n",
    "linear_regression_reg(train,test,r=0.001)"
   ]
  }
 ],
 "metadata": {
  "kernelspec": {
   "display_name": "env",
   "language": "python",
   "name": "env"
  },
  "language_info": {
   "codemirror_mode": {
    "name": "ipython",
    "version": 3
   },
   "file_extension": ".py",
   "mimetype": "text/x-python",
   "name": "python",
   "nbconvert_exporter": "python",
   "pygments_lexer": "ipython3",
   "version": "3.10.9"
  }
 },
 "nbformat": 4,
 "nbformat_minor": 5
}
